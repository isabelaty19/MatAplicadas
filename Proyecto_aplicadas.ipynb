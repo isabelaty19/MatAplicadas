{
  "nbformat": 4,
  "nbformat_minor": 0,
  "metadata": {
    "colab": {
      "provenance": [],
      "authorship_tag": "ABX9TyMbYPHivGZN9BL6/pxhi/sp",
      "include_colab_link": true
    },
    "kernelspec": {
      "name": "python3",
      "display_name": "Python 3"
    },
    "language_info": {
      "name": "python"
    }
  },
  "cells": [
    {
      "cell_type": "markdown",
      "metadata": {
        "id": "view-in-github",
        "colab_type": "text"
      },
      "source": [
        "<a href=\"https://colab.research.google.com/github/isabelaty19/MatAplicadas/blob/main/Proyecto_aplicadas.ipynb\" target=\"_parent\"><img src=\"https://colab.research.google.com/assets/colab-badge.svg\" alt=\"Open In Colab\"/></a>"
      ]
    },
    {
      "cell_type": "markdown",
      "source": [
        "\n",
        "### Universidad ICESI\n",
        "### Programa de Ingeniería Bioquímica\n",
        "### Asignatura: Matemáticas Aplicadas I\n",
        "\n",
        "\n",
        "---\n",
        "\n",
        "\n",
        "\n",
        "# Optimización matemática de la producción de etanol en la fermentación alcohólica en la producción de vino blanco mediante el análisis del crecimiento celular y consumo de glucosa\n",
        "\n",
        "---\n",
        "\n",
        "\n",
        "\n",
        "**Autores**\n",
        "\n",
        "Isabella Laverde\n",
        "\n",
        " Maria Camila Parra\n",
        "\n",
        " Jhuleidy Perlaza\n",
        "\n",
        " Juan Fernando Montoya\n",
        "\n",
        "**Fecha**\n",
        "\n",
        " 2 de Junio del 2025\n",
        "\n",
        "Cali, Colombia\n",
        "\n"
      ],
      "metadata": {
        "id": "S5vnPV-gd7n4"
      }
    },
    {
      "cell_type": "markdown",
      "source": [
        "## **Introducción**\n",
        "La producción de vino es uno de los procesos biotecnológicos más antiguos dentro de la industria alimentaria, basado en la fermentación alcohólica de azúcares presentes en el mosto de uva. Este proceso es llevado a cabo por levaduras, que transforman la glucosa y la fructosa en etanol, dióxido de carbono y compuestos que determinan el aroma, sabor y calidad del vino. En condiciones controladas, esta fermentación se realiza en tanques o biorreactores diseñados para optimizar la producción y preservar la calidad del producto final.\n",
        "Dentro de este proceso, los organismos crecen y producen mientras consumen los nutrientes disponibles. Sin embargo, si la fermentación se extiende demasiado, los nutrientes se agotan, las células mueren y la producción disminuye. Por lo tanto, es fundamental identificar el momento adecuado para interrumpir el proceso y obtener el máximo rendimiento. Al tomar decisiones basadas en datos permite reducir las pérdidas económicas y mejorar los resultados industriales. En este contexto, las matemáticas aplicadas son una herramienta útil para modelar el crecimiento microbiano y la producción de metabolitos a lo largo del tiempo. A través del uso de funciones, derivadas, máximos, mínimos y tasas de cambio, es posible modelar el comportamiento del sistema: el crecimiento de las levaduras, el consumo de azúcares y la formación de etanol a lo largo del tiempo.\n",
        "## **Resumen** **Ejecutivo**\n",
        "Este proyecto aborda la optimización de la fermentación alcohólica para la producción de vino, un proceso clave en ingeniería bioquímica. El problema planteado fue analizar cómo las condiciones de operación afectan la producción y eficiencia del etanol en un biorreactor.\n",
        "Se utilizó un enfoque de modelación matemática, aplicando funciones sigmoides (Gompertz) para simular la producción de etanol, funciones logísticas para el crecimiento microbiano, y derivadas para calcular la tasa de producción y eficiencia relativa.\n",
        "Los resultados demostraron que condiciones con temperatura alta y suficiente nitrógeno permiten una fermentación más rápida, eficiente y con mayor producción de etanol. Se identificó también el momento óptimo de operación y se propusieron alternativas para un modelado más preciso. Las matemáticas aplicadas permitieron comprender la predicción y optimización del comportamiento del proceso sin necesidad de realizar ensayos experimentales.\n",
        "\n",
        "\n",
        "## **Objetivo:**\n",
        "Aplicar herramientas de matemáticas aplicadas para la comprensión, modelamiento, análisis y optimización el proceso de fermentación alcohólica durante la producción de vino, identificando el momento de máxima eficiencia en la formación de etanol mediante funciones, derivadas, tasas de cambio y análisis de máximos y mínimos.\n",
        "\n",
        "## **Marco teórico**\n",
        "**Función**: Una función es una relación de dependencia matemática entre dos variables. La función está formada por conjuntos de valores de las variables dependiente e independiente y una regla que asigna a cada elemento del conjunto de salida uno y solo uno del conjunto de llegada. (Group Zero, 1981; citado en Azcarate y Delofeu, 1996)\n",
        "En este proyecto se modelan tres funciones principales:\n",
        "\n",
        "$X(t)$: Crecimiento de biomasa\n",
        "\n",
        "$P(t)$: Producción acumulada de etanol\n",
        "\n",
        "$E(t)$: Eficiencia relativa instantánea del proceso\n",
        "\n",
        "**Derivadas**: La derivada de una función representa su tasa de cambio instantánea respecto a una variable independiente. Su definición formal dice que la derivada de una función f es otra función (léase “f prima”) cuyo valor en cualquier número x es: $$ \\lim_{h \\to 0} \\frac{f(x + h) - f(x)}{h} $$\n",
        "\n",
        "\n",
        "En el contexto del proyecto, se usó las siguiente derivada:\n",
        "\n",
        "$P′(t)$: Tasa de producción de etanol\n",
        "\n",
        "\n",
        "**Tasas de cambio**: A una tasa de cambio se le denomina la derivada de una dependencia de una variable al tiempo (Purcell et al., 2007). Las tasas de cambio permiten analizar la rapidez con la que varían las variables del sistema. Por ejemplo, conocer el valor de P′(t) permite determinar cuándo la producción de etanol es más eficiente, lo cual es crucial para decidir cuándo detener el proceso de fermentación.\n",
        "\n",
        "**Máximos y mínimos**: Los máximos y mínimos de una función son el valor más grande o valor mas pequeño que puede adquirir una función en un punto de su gráfica. Hay dos tipos: absolutos y relativos. Los máximos y mínimos absolutos son los puntos más altos y más bajos en todo el dominio de la función. Por otro lado, los máximos y mínimos relativos son los puntos más altos y más bajos en una región específica del dominio de la función. Se aplican para encontrar puntos críticos en el proceso, como el momento en que se alcanza la máxima producción de etanol por unidad de tiempo.\n",
        "## **Metodología**\n",
        "\n",
        "Se consideró el escenario de una fermentación controlada en biorreactor con las siguientes condiciones iniciales, basadas en los parámetros experimentales utilizados por Nelson & Boulton (2024) en modelos de fermentación alcohólica:\n",
        "\n",
        "Tabla 1. Condiciones iniciales de fermentación alcohólica\n",
        "![image.png](data:image/png;base64,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)\n",
        "\n",
        "\n",
        "Para realizar el modelamiento y gráfica del proceso se usaron las siguientes ecuaciones:\n",
        "\n",
        "1. Producción acumulada de etanol\n",
        "\n",
        "$P(t) = P_{\\text{max}} \\cdot e^{-e^{-k(t - t_{m})}}$\n",
        "\n",
        "Esta es una función de Gompertz, la cual modela el aumento acumulado de, en este caso, etanol con el tiempo.\n",
        "\n",
        "Donde:\n",
        "\n",
        "\n",
        "$t_{m}$ es el tiempo de máxima velocidad de producción (inflexión)\n",
        "\n",
        "\n",
        "2. Tasa de producción de etanol\n",
        "\n",
        "$P'(t) = k \\cdot P_{\\text{max}} \\cdot e^{-k(t - t_{m})} \\cdot e^{-e^{-k(t - t_{m})}}$\n",
        "\n",
        "Esta es la derivada de la función de Gompertz, la cual mide la velocidad con la que se produce etanol en cada instante. El máximo de $P'(t) \\text{ ocurre en } t = t_{m}$\n",
        "\n",
        "3. Eficiencia relativa instantánea del proceso\n",
        "\n",
        "$E(t) = \\frac{P'(t)}{k \\cdot S_0 \\cdot e^{-k(t - t_{m})}}$\n",
        "\n",
        "Esta función aproxima el rendimiento de etanol por azúcar consumido en cada instante. No es una eficiencia absoluta, sino una comparación relativa útil para analizar rendimiento dinámico.\n",
        "\n",
        "4. Crecimiento de biomasa\n",
        "\n",
        "$X(t) = \\frac{X_{\\text{max}}}{1 + A \\cdot e^{-k_{x} t}}$\n",
        "\n",
        "Esta es una función logística la cual modela cómo crece la concentración de levaduras activas durante la fermentación.\n",
        "\n",
        "Donde:\n",
        "\n",
        "\n",
        "$A = \\frac{X_{\\text{max}} - X_0}{X_0}$ es la constante logística\n",
        "\n",
        "\n",
        "Otras constantes usadas fueron:\n",
        "\n",
        "| Símbolo          | Significado                                  | Valor típico  |\n",
        "| ---------------- | -------------------------------------------- | ------------- |\n",
        "| $Y_{P/S}$        | Rendimiento de etanol por azúcar consumida   | 0.51 g/g      |\n",
        "| $S_0$            | Concentración inicial de azúcar              | 265–300 g/L   |\n",
        "| $X_0$            | Biomasa inicial                              | 0.25 g/L      |\n",
        "| $X_{\\text{max}}$ | Biomasa máxima                               | 8 g/L         |\n",
        "| $k, k_X$         | Tasas específicas (producción o crecimiento) | 0.01–0.06 h⁻¹ |\n",
        "| $t_m$            | Tiempo del pico de producción                | 60–250 h      |\n",
        "\n",
        "\n",
        "\n",
        "\n",
        "\n",
        "\n",
        "\n"
      ],
      "metadata": {
        "id": "nlwXwjczeSw8"
      }
    },
    {
      "cell_type": "markdown",
      "source": [
        "## **Resultados**\n",
        "\n",
        "Con base en los cuatro escenarios experimentales (datasets) extraídos del artículo científico, se modelaron y graficaron las funciones anteriormente mencionadas.\n",
        "\n",
        "Con ayuda de IA, se realizaron los cálculos en python, exportando los resultados y gráficos a un archivo Excel con una hoja por dataset:\n",
        "\n"
      ],
      "metadata": {
        "id": "-pncgrVukL6F"
      }
    },
    {
      "cell_type": "code",
      "source": [
        "!pip install xlsxwriter\n",
        "import numpy as np\n",
        "import xlsxwriter\n",
        "\n",
        "\n",
        "datasets = {\n",
        "    \"Dataset 1\": {\"S0\": 300, \"T\": 11, \"N\": 100},\n",
        "    \"Dataset 2\": {\"S0\": 265, \"T\": 15, \"N\": 80},\n",
        "    \"Dataset 3\": {\"S0\": 265, \"T\": 30, \"N\": 330},\n",
        "    \"Dataset 4\": {\"S0\": 300, \"T\": 35, \"N\": 70}\n",
        "}\n",
        "\n",
        "Y_PS = 0.51  # rendimiento g etanol / g azúcar\n",
        "t = np.linspace(0, 400, 400)\n",
        "\n",
        "# Asigna parámetros cinéticos según T y N\n",
        "def assign_kinetics(temp, nitrogen):\n",
        "    if temp < 15:\n",
        "        k = 0.01\n",
        "        tm = 250\n",
        "    elif temp < 25:\n",
        "        k = 0.02\n",
        "        tm = 150\n",
        "    elif temp < 35:\n",
        "        k = 0.04\n",
        "        tm = 100\n",
        "    else:\n",
        "        k = 0.06\n",
        "        tm = 80\n",
        "    if nitrogen > 200:\n",
        "        k *= 1.2\n",
        "        tm *= 0.9\n",
        "    return k, tm\n",
        "\n",
        "# Simulación para cada dataset\n",
        "results = {}\n",
        "for name, params in datasets.items():\n",
        "    S0 = params[\"S0\"]\n",
        "    P_max = Y_PS * S0\n",
        "    k, tm = assign_kinetics(params[\"T\"], params[\"N\"])\n",
        "    exp_component = -k * (t - tm)\n",
        "\n",
        "    P_t = P_max * np.exp(-np.exp(exp_component))  # Producción\n",
        "    P_deriv = k * P_max * np.exp(exp_component) * np.exp(-np.exp(exp_component))  # Derivada\n",
        "    eficiencia = P_deriv / (k * S0 * np.exp(exp_component))  # Eficiencia relativa\n",
        "\n",
        "    results[name] = {\n",
        "        \"t\": t,\n",
        "        \"P_t\": P_t,\n",
        "        \"P_deriv\": P_deriv,\n",
        "        \"Eficiencia\": eficiencia\n",
        "    }\n",
        "\n",
        "# Crear archivo Excel\n",
        "workbook = xlsxwriter.Workbook(\"Fermentacion_4Datasets_Gompertz.xlsx\")\n",
        "\n",
        "for name, data in results.items():\n",
        "    worksheet = workbook.add_worksheet(name)\n",
        "    worksheet.write(0, 0, \"Tiempo (h)\")\n",
        "    worksheet.write(0, 1, \"Etanol P(t) [g/L]\")\n",
        "    worksheet.write(0, 2, \"Producción P'(t) [g/L·h]\")\n",
        "    worksheet.write(0, 3, \"Eficiencia relativa\")\n",
        "\n",
        "    for i in range(len(data[\"t\"])):\n",
        "        worksheet.write(i + 1, 0, float(data[\"t\"][i]))\n",
        "        worksheet.write(i + 1, 1, float(data[\"P_t\"][i]))\n",
        "        worksheet.write(i + 1, 2, float(data[\"P_deriv\"][i]))\n",
        "        worksheet.write(i + 1, 3, float(data[\"Eficiencia\"][i]))\n",
        "\n",
        "    # Gráficos\n",
        "    def add_chart(col, title, cell):\n",
        "        chart = workbook.add_chart({'type': 'line'})\n",
        "        chart.add_series({\n",
        "            'name':       [name, 0, col],\n",
        "            'categories': [name, 1, 0, len(data[\"t\"]), 0],\n",
        "            'values':     [name, 1, col, len(data[\"t\"]), col],\n",
        "        })\n",
        "        chart.set_title({'name': f\"{title} - {name}\"})\n",
        "        chart.set_x_axis({'name': 'Tiempo (h)'})\n",
        "        chart.set_y_axis({'name': title})\n",
        "        worksheet.insert_chart(cell, chart)\n",
        "\n",
        "    add_chart(1, \"Producción de Etanol\", 'F2')\n",
        "    add_chart(2, \"Tasa de Producción\", 'F20')\n",
        "    add_chart(3, \"Eficiencia Relativa\", 'F38')\n",
        "\n",
        "workbook.close()\n",
        "print(\"Archivo Excel generado: Fermentacion_4Datasets_Gompertz.xlsx\")"
      ],
      "metadata": {
        "colab": {
          "base_uri": "https://localhost:8080/"
        },
        "id": "j4-Qlo-zAZfN",
        "outputId": "0deebf9d-970c-4c99-9990-9cea148f263c"
      },
      "execution_count": null,
      "outputs": [
        {
          "output_type": "stream",
          "name": "stdout",
          "text": [
            "Collecting xlsxwriter\n",
            "  Downloading XlsxWriter-3.2.3-py3-none-any.whl.metadata (2.7 kB)\n",
            "Downloading XlsxWriter-3.2.3-py3-none-any.whl (169 kB)\n",
            "\u001b[?25l   \u001b[90m━━━━━━━━━━━━━━━━━━━━━━━━━━━━━━━━━━━━━━━━\u001b[0m \u001b[32m0.0/169.4 kB\u001b[0m \u001b[31m?\u001b[0m eta \u001b[36m-:--:--\u001b[0m\r\u001b[2K   \u001b[91m━━━━━━━━━━━━━━━━━━━━━\u001b[0m\u001b[91m╸\u001b[0m\u001b[90m━━━━━━━━━━━━━━━━━━\u001b[0m \u001b[32m92.2/169.4 kB\u001b[0m \u001b[31m3.5 MB/s\u001b[0m eta \u001b[36m0:00:01\u001b[0m\r\u001b[2K   \u001b[90m━━━━━━━━━━━━━━━━━━━━━━━━━━━━━━━━━━━━━━━━\u001b[0m \u001b[32m169.4/169.4 kB\u001b[0m \u001b[31m3.1 MB/s\u001b[0m eta \u001b[36m0:00:00\u001b[0m\n",
            "\u001b[?25hInstalling collected packages: xlsxwriter\n",
            "Successfully installed xlsxwriter-3.2.3\n",
            "Archivo Excel generado: Fermentacion_4Datasets_Gompertz.xlsx\n"
          ]
        }
      ]
    },
    {
      "cell_type": "code",
      "source": [
        "from google.colab import files\n",
        "files.download(\"Fermentacion_4Datasets_Gompertz.xlsx\")\n"
      ],
      "metadata": {
        "colab": {
          "base_uri": "https://localhost:8080/",
          "height": 17
        },
        "id": "Ro98DJ1HBSzS",
        "outputId": "d9b3f3cc-991c-44ca-d749-97c107f9ef9f"
      },
      "execution_count": null,
      "outputs": [
        {
          "output_type": "display_data",
          "data": {
            "text/plain": [
              "<IPython.core.display.Javascript object>"
            ],
            "application/javascript": [
              "\n",
              "    async function download(id, filename, size) {\n",
              "      if (!google.colab.kernel.accessAllowed) {\n",
              "        return;\n",
              "      }\n",
              "      const div = document.createElement('div');\n",
              "      const label = document.createElement('label');\n",
              "      label.textContent = `Downloading \"${filename}\": `;\n",
              "      div.appendChild(label);\n",
              "      const progress = document.createElement('progress');\n",
              "      progress.max = size;\n",
              "      div.appendChild(progress);\n",
              "      document.body.appendChild(div);\n",
              "\n",
              "      const buffers = [];\n",
              "      let downloaded = 0;\n",
              "\n",
              "      const channel = await google.colab.kernel.comms.open(id);\n",
              "      // Send a message to notify the kernel that we're ready.\n",
              "      channel.send({})\n",
              "\n",
              "      for await (const message of channel.messages) {\n",
              "        // Send a message to notify the kernel that we're ready.\n",
              "        channel.send({})\n",
              "        if (message.buffers) {\n",
              "          for (const buffer of message.buffers) {\n",
              "            buffers.push(buffer);\n",
              "            downloaded += buffer.byteLength;\n",
              "            progress.value = downloaded;\n",
              "          }\n",
              "        }\n",
              "      }\n",
              "      const blob = new Blob(buffers, {type: 'application/binary'});\n",
              "      const a = document.createElement('a');\n",
              "      a.href = window.URL.createObjectURL(blob);\n",
              "      a.download = filename;\n",
              "      div.appendChild(a);\n",
              "      a.click();\n",
              "      div.remove();\n",
              "    }\n",
              "  "
            ]
          },
          "metadata": {}
        },
        {
          "output_type": "display_data",
          "data": {
            "text/plain": [
              "<IPython.core.display.Javascript object>"
            ],
            "application/javascript": [
              "download(\"download_6f72bef4-4b7c-4dbb-b6c2-6ef17f7d8131\", \"Fermentacion_4Datasets_Gompertz.xlsx\", 220174)"
            ]
          },
          "metadata": {}
        }
      ]
    },
    {
      "cell_type": "markdown",
      "source": [
        "La simulación matemática permite visualizar y comparar cómo afectan las condiciones de fermentación al rendimiento del proceso.\n",
        "\n",
        "El dataset 4 demostró una producción significativa de etanol (~150 g/L) , alcanzando una tasa máxima de producción rápidamente a apróximandamente 60 a 70 horas.\n",
        "\n",
        "Por otro lado, el dataset 1 demuestra una producción mucha más lenta, alcanzando los 120 g/L de etanol producido en apróximadamente 400 horas. Tuvo una eficiencia menor y poco estable, además, su biomasa se mantiene baja por mucho tiempo.\n",
        "\n",
        "Los datasets 2 y 3 mostraron un crecimiento moderado, con el 3 representando una velocidad ligeramente mayor.\n"
      ],
      "metadata": {
        "id": "_Jjq4cBzQ3dZ"
      }
    },
    {
      "cell_type": "markdown",
      "source": [
        "## **Conclusiones**\n",
        "\n",
        "A través del desarrollo de este proyecto, se encontraron diversos aprendizajes clave tanto en el área de la ingeniería bioquímica, pues se comprendió las bases de cómo modelar procesos bioquímicos reales mediante funciones matemáticas ajustadas al comportamiento biológico, como la función de Gompertz y la función logística. Esto ayudó a entender la utilidad de las derivadas y tasas de cambio en el analísis de procesos químicos e industriales, donde las condiciones y cantidades de las variables influyen fuertemente en los resultados.\n",
        "\n",
        "En este caso, la tasa de producción $P'(t)$ fue una métrica fundamental para determinar el tiempo óptimo de operación en procesos de fermentación, ya que permite identificar el punto en el que la productividad alcanza su máximo y evitar fases ineficientes posteriores. Por otro lado, el modelo de biomasa $X'(t)$ permitió correlacionar directamente la actividad microbiana con la producción de etanol, confirmando que el pico de producción se alcanza después de la etapa de mayor crecimiento celular.\n",
        "\n",
        "En este contexto, el modelado matemático y uso de las matemáticas aplicadas ofrece una ventaja significativa al permitir la simulación de distintos escenarios sin necesidad de realizar experimentos físicos, lo que optimiza recursos y facilita la planificación eficiente de la producción vinícola en biorreactores industriales.\n",
        "\n",
        "Sin embargo, aunque el modelo proporciona un análisis útil que ayudan a comprender mejor los conceptos vistos, dentro del proyecto también se presentaron algunas limitaciones,no considera variables como el pH, el oxígeno disuelto o la inhibición por etanol, factores que influyen en el comportamiento real del sistema. Además, la producción de etanol se modeló con una función empírica, lo que limita su vínculo con los mecanismos metabólicos reales. También se asumieron condiciones constantes, que no siempre se cumplen en entornos industriales.\n",
        "\n",
        "Es por esto que modelos basados en ecuaciones diferenciales y con adición de variables como inhibición por etanol o limitación por nutrientes secundarios muestran de manera más precisa el comportamiento real de los procesos metábolicos.\n",
        "\n"
      ],
      "metadata": {
        "id": "cuITdAckNrhM"
      }
    },
    {
      "cell_type": "markdown",
      "source": [
        "## **Bibliografía**\n",
        "\n",
        "Nelson, J., & Boulton, R. (2024). Models for Wine Fermentation and Their Suitability for Commercial Applications. Fermentation, 10(6), 269. https://doi.org/10.3390/fermentation10060269\n",
        "\n",
        "Purcell, E. J., Varberg, D. E., & Rigdon, S. E. (2007). Calculo. Pearson Educación.\n",
        "\n",
        "Cano, J. M. (2012). La definición del concepto de función bajo el enfoque de la enseñanza para la comprensión en estudiantes de grado 11 de una institución educativa oficial de Medellín [Trabajo de investigación para optar al título de Magister en Educación Matemática, UNIVERSIDAD DE ANTIOQUIA]. https://bibliotecadigital.udea.edu.co/server/api/core/bitstreams/3f97c496-6f00-48ab-acc3-24f91362c563/content\n",
        "\n",
        "Strang, G., & Herman, E. “. (2022, 24 marzo). 4.3 Máximos y mínimos - Cálculo volumen 1 | OpenStax. https://openstax.org/books/c%C3%A1lculo-volumen-1/pages/4-3-maximos-y-minimos#:~:text=el%20m%C3%A1ximo%20absoluto.-,Definici%C3%B3n,c%20.\n",
        "\n",
        "OpenAI. (2024). ChatGPT (June 4 version) [Large language model]. https://chat.openai.com\n"
      ],
      "metadata": {
        "id": "dcRPSqL2Si4D"
      }
    }
  ]
}