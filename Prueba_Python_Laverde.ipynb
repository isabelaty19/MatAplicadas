{
  "nbformat": 4,
  "nbformat_minor": 0,
  "metadata": {
    "colab": {
      "provenance": [],
      "authorship_tag": "ABX9TyMAcUq0/aG7TSPJ4fqMlfj/",
      "include_colab_link": true
    },
    "kernelspec": {
      "name": "python3",
      "display_name": "Python 3"
    },
    "language_info": {
      "name": "python"
    }
  },
  "cells": [
    {
      "cell_type": "markdown",
      "metadata": {
        "id": "view-in-github",
        "colab_type": "text"
      },
      "source": [
        "<a href=\"https://colab.research.google.com/github/isabelaty19/MatAplicadas/blob/main/Prueba_Python_Laverde.ipynb\" target=\"_parent\"><img src=\"https://colab.research.google.com/assets/colab-badge.svg\" alt=\"Open In Colab\"/></a>"
      ]
    },
    {
      "cell_type": "markdown",
      "source": [
        "GRUPO 3\n",
        "\n",
        "1.\t¿Cuál es la probabilidad de encontrar una persona que sea tecnóloga o universitaria?\n",
        "2.\t¿Cuál es la probabilidad de encontrar una persona que sea de secundaria o de primaria y que le parezca importante o muy importante conseguir un nuevo trabajo?\n",
        "3.\t¿Cuál es la probabilidad de encontrar una persona que es tecnólogo o que le parezca poco o nada importante conseguir un nuevo trabajo?\n",
        "4.\t¿Cuál es la probabilidad de encontrar una persona dado que es de primaria, que le parezca importante o poco importante conseguir un nuevo trabajo?\n",
        "5.\t¿Cuál es la probabilidad de encontrar una persona que sea de primaria o secundaria dado que le parezca poco o nada importante conseguir un nuevo trabajo?\n"
      ],
      "metadata": {
        "id": "paPfuQV3eSnI"
      }
    },
    {
      "cell_type": "code",
      "source": [
        "import pandas as pd\n",
        "import re\n",
        "\n",
        "df = pd.read_excel('/content/Perfil_2.xlsx')\n",
        "print(\"Columnas disponibles:\", df.columns.tolist())\n",
        "\n"
      ],
      "metadata": {
        "colab": {
          "base_uri": "https://localhost:8080/"
        },
        "id": "CpVY2VIzfrvK",
        "outputId": "7878c942-152a-4d07-bc9c-8c1635adcb3e"
      },
      "execution_count": 11,
      "outputs": [
        {
          "output_type": "stream",
          "name": "stdout",
          "text": [
            "Columnas disponibles: ['No. Encuesta', 'Género', 'Edad', 'Tiene hijos', 'Estado Civil ', 'Ocupación ', 'Nivel de ingresos', 'Educación', '¿Cómo le parece seguir estudiando, para alcanzar un nivel académico superior?', '¿Cómo le parece conseguir un mejor trabajo?', '¿Cómo considera atender a su familia?']\n"
          ]
        }
      ]
    },
    {
      "cell_type": "code",
      "source": [
        "filtro_1 = df[(df[\"Educación\"] == 3) | (df[\"Educación\"] == 4)]\n",
        "\n",
        "len(filtro_1)\n",
        "len(df)\n",
        "\n",
        "posibilidad_filtro1 = len(filtro_1) / len(df)\n",
        "posibilidad_porcentaje = posibilidad_filtro1 * 100\n",
        "print(\"La probabilidad de que una persona sea tecnóloga o universitaria es:\", posibilidad_filtro1, \"o\", posibilidad_porcentaje, \"%\")"
      ],
      "metadata": {
        "colab": {
          "base_uri": "https://localhost:8080/"
        },
        "id": "x8Tt0TKDh55f",
        "outputId": "acde37f8-b850-44df-df82-14b17fc36ffd"
      },
      "execution_count": 20,
      "outputs": [
        {
          "output_type": "stream",
          "name": "stdout",
          "text": [
            "La probabilidad de que una persona sea tecnóloga o universitaria es: 0.11 o 11.0 %\n"
          ]
        }
      ]
    },
    {
      "cell_type": "code",
      "source": [
        "filtro_2 = df[((df[\"Educación\"] == 1) | (df[\"Educación\"] == 2)) & ((df[\"¿Cómo le parece conseguir un mejor trabajo?\"] == 3) | (df[\"¿Cómo le parece conseguir un mejor trabajo?\"] == 4))]\n",
        "\n",
        "len(filtro_2)\n",
        "len(df)\n",
        "\n",
        "posibilidad_filtro2 = len(filtro_2) / len(df)\n",
        "posibilidad_porcentaje = posibilidad_filtro2 * 100\n",
        "\n",
        "print(\"La probabilidad de que una persona sea de secundaria o de primaria y que le parezca importante o muy importante conseguir un nuevo trabajo es:\", posibilidad_filtro2, \"o\", posibilidad_porcentaje, \"%\")"
      ],
      "metadata": {
        "colab": {
          "base_uri": "https://localhost:8080/"
        },
        "id": "xE9OUSoHkUlC",
        "outputId": "b97e88ad-f970-434d-e3ef-fae1e7e54910"
      },
      "execution_count": 27,
      "outputs": [
        {
          "output_type": "stream",
          "name": "stdout",
          "text": [
            "La probabilidad de que una persona sea de secundaria o de primaria y que le parezca importante o muy importante conseguir un nuevo trabajo es: 0.84 o 84.0 %\n"
          ]
        }
      ]
    },
    {
      "cell_type": "code",
      "source": [
        "filtro_3 = df[(df[\"Educación\"] == 3) | ((df[\"¿Cómo le parece conseguir un mejor trabajo?\"] == 2) | (df[\"¿Cómo le parece conseguir un mejor trabajo?\"] == 1))]\n",
        "\n",
        "len(filtro_3)\n",
        "len(df)\n",
        "\n",
        "posibilidad_filtro3 = len(filtro_3) / len(df)\n",
        "posibilidad_porcentaje = posibilidad_filtro3 * 100\n",
        "\n",
        "print(\"La probabilidad de que una persona sea tecnólogo o que le parezca poco o nada importante conseguir un nuevo trabajo es:\", posibilidad_filtro3, \"o\", posibilidad_porcentaje, \"%\")"
      ],
      "metadata": {
        "colab": {
          "base_uri": "https://localhost:8080/"
        },
        "id": "mTauDzk4nDLw",
        "outputId": "6b17e700-969c-4a74-f731-323aceaddaa5"
      },
      "execution_count": 31,
      "outputs": [
        {
          "output_type": "stream",
          "name": "stdout",
          "text": [
            "La probabilidad de que una persona sea tecnólogo o que le parezca poco o nada importante conseguir un nuevo trabajo es: 0.16 o 16.0 %\n"
          ]
        }
      ]
    },
    {
      "cell_type": "code",
      "source": [
        "# \"Le parezca que es imp... | primaria\"\n",
        "\n",
        "filtro_primaria = df[df[\"Educación\"] == 1]\n",
        "\n",
        "len(filtro_primaria)\n",
        "len(df)\n",
        "\n",
        "posibilidad_filtro_primaria = len(filtro_primaria) / len(df)\n",
        "\n",
        "filtro_4 = filtro_primaria[(filtro_primaria[\"¿Cómo le parece conseguir un mejor trabajo?\"] == 3) | (filtro_primaria[\"¿Cómo le parece conseguir un mejor trabajo?\"] ==2)]\n",
        "\n",
        "len(filtro_4)\n",
        "len(df)\n",
        "\n",
        "posibilidad_filtro4 = len(filtro_4) / len(df)\n",
        "\n",
        "posibilidad_dadoque = posibilidad_filtro4 / posibilidad_filtro_primaria\n",
        "posibilidad_porcentaje = posibilidad_dadoque * 100\n",
        "\n",
        "print(\"La probabilidad de encontrar una persona dado que es de primaria, que le parezca importante o poco importante conseguir un nuevo trabajo es:\", posibilidad_dadoque, \"o\", posibilidad_porcentaje, \"%\")"
      ],
      "metadata": {
        "colab": {
          "base_uri": "https://localhost:8080/"
        },
        "id": "uKfUH7qCnMB4",
        "outputId": "1b023686-71ab-47c2-86e3-5fdfe8bad832"
      },
      "execution_count": 34,
      "outputs": [
        {
          "output_type": "stream",
          "name": "stdout",
          "text": [
            "La probabilidad de encontrar una persona dado que es de primaria, que le parezca importante o poco importante conseguir un nuevo trabajo es: 0.19999999999999998 o 20.0 %\n"
          ]
        }
      ]
    }
  ]
}